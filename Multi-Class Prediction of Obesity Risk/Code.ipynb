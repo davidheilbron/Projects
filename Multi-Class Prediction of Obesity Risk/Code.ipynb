{
 "cells": [
  {
   "cell_type": "markdown",
   "id": "0fb3d73c",
   "metadata": {},
   "source": [
    "# Multi-Class Prediction of Obesity Risk\n",
    "\n",
    "## David Heilbron"
   ]
  },
  {
   "cell_type": "markdown",
   "id": "6e133385",
   "metadata": {},
   "source": [
    "# Upload kaggle.json"
   ]
  },
  {
   "cell_type": "code",
   "execution_count": 1,
   "id": "bc5b21c1",
   "metadata": {},
   "outputs": [
    {
     "data": {
      "text/plain": [
       "'C:\\\\Users\\\\Administrator\\\\OneDrive\\\\Projects\\\\Multi-Class Prediction of Obesity Risk'"
      ]
     },
     "execution_count": 1,
     "metadata": {},
     "output_type": "execute_result"
    }
   ],
   "source": [
    "%pwd #check current working directory"
   ]
  },
  {
   "cell_type": "code",
   "execution_count": 2,
   "id": "132d82e8",
   "metadata": {},
   "outputs": [],
   "source": [
    "import zipfile\n",
    "dir_name = 'C:\\\\Users\\\\Administrator\\\\OneDrive\\\\Projects\\\\Multi-Class Prediction of Obesity Risk' # sample dir\n",
    "with zipfile.ZipFile('C:\\\\Users\\\\Administrator\\\\OneDrive\\\\Projects\\\\Multi-Class Prediction of Obesity Risk\\\\playground-series-s4e2.zip', 'r') as zip_ref:\n",
    "    zip_ref.extractall('C:\\\\Users\\\\Administrator\\\\OneDrive\\\\Projects\\\\Multi-Class Prediction of Obesity Risk')"
   ]
  },
  {
   "cell_type": "code",
   "execution_count": 3,
   "id": "2bd7ec4a",
   "metadata": {},
   "outputs": [],
   "source": [
    "import os \n",
    "\n",
    "def list_dir(dir_name, traversed = [], results = []): \n",
    "    dirs = os.listdir(dir_name)\n",
    "    if dirs:\n",
    "        for f in dirs:\n",
    "            new_dir = dir_name + f + '/'\n",
    "            if os.path.isdir(new_dir) and new_dir not in traversed:\n",
    "                traversed.append(new_dir)\n",
    "                list_dir(new_dir, traversed, results)\n",
    "            else:\n",
    "                results.append([new_dir[:-1], os.stat(new_dir[:-1])])  \n",
    "    return results\n",
    "\n",
    "\n"
   ]
  },
  {
   "cell_type": "code",
   "execution_count": null,
   "id": "e434abf6",
   "metadata": {},
   "outputs": [],
   "source": []
  }
 ],
 "metadata": {
  "kernelspec": {
   "display_name": "Python 3 (ipykernel)",
   "language": "python",
   "name": "python3"
  },
  "language_info": {
   "codemirror_mode": {
    "name": "ipython",
    "version": 3
   },
   "file_extension": ".py",
   "mimetype": "text/x-python",
   "name": "python",
   "nbconvert_exporter": "python",
   "pygments_lexer": "ipython3",
   "version": "3.10.10"
  },
  "varInspector": {
   "cols": {
    "lenName": 16,
    "lenType": 16,
    "lenVar": 40
   },
   "kernels_config": {
    "python": {
     "delete_cmd_postfix": "",
     "delete_cmd_prefix": "del ",
     "library": "var_list.py",
     "varRefreshCmd": "print(var_dic_list())"
    },
    "r": {
     "delete_cmd_postfix": ") ",
     "delete_cmd_prefix": "rm(",
     "library": "var_list.r",
     "varRefreshCmd": "cat(var_dic_list()) "
    }
   },
   "types_to_exclude": [
    "module",
    "function",
    "builtin_function_or_method",
    "instance",
    "_Feature"
   ],
   "window_display": false
  }
 },
 "nbformat": 4,
 "nbformat_minor": 5
}
