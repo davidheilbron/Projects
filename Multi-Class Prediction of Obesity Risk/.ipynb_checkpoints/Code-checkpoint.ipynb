{
 "cells": [
  {
   "cell_type": "markdown",
   "id": "0fb3d73c",
   "metadata": {},
   "source": [
    "# Multi-Class Prediction of Obesity Risk\n",
    "\n",
    "## David Heilbron"
   ]
  },
  {
   "cell_type": "markdown",
   "id": "6e133385",
   "metadata": {
    "jp-MarkdownHeadingCollapsed": true
   },
   "source": [
    "# Load libraries and read data"
   ]
  },
  {
   "cell_type": "code",
   "execution_count": null,
   "id": "c87b830e-9a7e-4bbc-8b64-99f1beef672e",
   "metadata": {},
   "outputs": [],
   "source": [
    "# Check the dataset description\n",
    "# https://www.kaggle.com/datasets/aravindpcoder/obesity-or-cvd-risk-classifyregressorcluster"
   ]
  },
  {
   "cell_type": "code",
   "execution_count": 36,
   "id": "2bd7ec4a",
   "metadata": {},
   "outputs": [],
   "source": [
    "import pandas as pd\n",
    "import numpy as np\n",
    "import matplotlib.pyplot as plt\n",
    "\n",
    "train = pd.read_csv('train.csv')"
   ]
  },
  {
   "cell_type": "markdown",
   "id": "b592a7be-a23c-438c-87f6-af484d3cfc56",
   "metadata": {},
   "source": [
    "# Data Exploration"
   ]
  },
  {
   "cell_type": "code",
   "execution_count": 2,
   "id": "e434abf6",
   "metadata": {},
   "outputs": [
    {
     "name": "stdout",
     "output_type": "stream",
     "text": [
      "<class 'pandas.core.frame.DataFrame'> 20758 (20758, 18)\n"
     ]
    }
   ],
   "source": [
    "# What type of data frame are we working with? What's it size?\n",
    "print(type(train), len(train), train.shape)"
   ]
  },
  {
   "cell_type": "code",
   "execution_count": 3,
   "id": "673dab57-1a84-4533-930c-8125812ba15e",
   "metadata": {},
   "outputs": [],
   "source": [
    "pd.set_option(\"display.precision\", 2)"
   ]
  },
  {
   "cell_type": "code",
   "execution_count": 4,
   "id": "aaa7912e-7986-4f6d-8fd6-2bdb01803726",
   "metadata": {},
   "outputs": [
    {
     "data": {
      "text/html": [
       "<div>\n",
       "<style scoped>\n",
       "    .dataframe tbody tr th:only-of-type {\n",
       "        vertical-align: middle;\n",
       "    }\n",
       "\n",
       "    .dataframe tbody tr th {\n",
       "        vertical-align: top;\n",
       "    }\n",
       "\n",
       "    .dataframe thead th {\n",
       "        text-align: right;\n",
       "    }\n",
       "</style>\n",
       "<table border=\"1\" class=\"dataframe\">\n",
       "  <thead>\n",
       "    <tr style=\"text-align: right;\">\n",
       "      <th></th>\n",
       "      <th>id</th>\n",
       "      <th>Gender</th>\n",
       "      <th>Age</th>\n",
       "      <th>Height</th>\n",
       "      <th>Weight</th>\n",
       "      <th>family_history_with_overweight</th>\n",
       "      <th>FAVC</th>\n",
       "      <th>FCVC</th>\n",
       "      <th>NCP</th>\n",
       "      <th>CAEC</th>\n",
       "      <th>SMOKE</th>\n",
       "      <th>CH2O</th>\n",
       "      <th>SCC</th>\n",
       "      <th>FAF</th>\n",
       "      <th>TUE</th>\n",
       "      <th>CALC</th>\n",
       "      <th>MTRANS</th>\n",
       "      <th>NObeyesdad</th>\n",
       "    </tr>\n",
       "  </thead>\n",
       "  <tbody>\n",
       "    <tr>\n",
       "      <th>0</th>\n",
       "      <td>0</td>\n",
       "      <td>Male</td>\n",
       "      <td>24.44</td>\n",
       "      <td>1.70</td>\n",
       "      <td>81.67</td>\n",
       "      <td>yes</td>\n",
       "      <td>yes</td>\n",
       "      <td>2.00</td>\n",
       "      <td>2.98</td>\n",
       "      <td>Sometimes</td>\n",
       "      <td>no</td>\n",
       "      <td>2.76</td>\n",
       "      <td>no</td>\n",
       "      <td>0.00</td>\n",
       "      <td>0.98</td>\n",
       "      <td>Sometimes</td>\n",
       "      <td>Public_Transportation</td>\n",
       "      <td>Overweight_Level_II</td>\n",
       "    </tr>\n",
       "    <tr>\n",
       "      <th>1</th>\n",
       "      <td>1</td>\n",
       "      <td>Female</td>\n",
       "      <td>18.00</td>\n",
       "      <td>1.56</td>\n",
       "      <td>57.00</td>\n",
       "      <td>yes</td>\n",
       "      <td>yes</td>\n",
       "      <td>2.00</td>\n",
       "      <td>3.00</td>\n",
       "      <td>Frequently</td>\n",
       "      <td>no</td>\n",
       "      <td>2.00</td>\n",
       "      <td>no</td>\n",
       "      <td>1.00</td>\n",
       "      <td>1.00</td>\n",
       "      <td>no</td>\n",
       "      <td>Automobile</td>\n",
       "      <td>Normal_Weight</td>\n",
       "    </tr>\n",
       "    <tr>\n",
       "      <th>2</th>\n",
       "      <td>2</td>\n",
       "      <td>Female</td>\n",
       "      <td>18.00</td>\n",
       "      <td>1.71</td>\n",
       "      <td>50.17</td>\n",
       "      <td>yes</td>\n",
       "      <td>yes</td>\n",
       "      <td>1.88</td>\n",
       "      <td>1.41</td>\n",
       "      <td>Sometimes</td>\n",
       "      <td>no</td>\n",
       "      <td>1.91</td>\n",
       "      <td>no</td>\n",
       "      <td>0.87</td>\n",
       "      <td>1.67</td>\n",
       "      <td>no</td>\n",
       "      <td>Public_Transportation</td>\n",
       "      <td>Insufficient_Weight</td>\n",
       "    </tr>\n",
       "    <tr>\n",
       "      <th>3</th>\n",
       "      <td>3</td>\n",
       "      <td>Female</td>\n",
       "      <td>20.95</td>\n",
       "      <td>1.71</td>\n",
       "      <td>131.27</td>\n",
       "      <td>yes</td>\n",
       "      <td>yes</td>\n",
       "      <td>3.00</td>\n",
       "      <td>3.00</td>\n",
       "      <td>Sometimes</td>\n",
       "      <td>no</td>\n",
       "      <td>1.67</td>\n",
       "      <td>no</td>\n",
       "      <td>1.47</td>\n",
       "      <td>0.78</td>\n",
       "      <td>Sometimes</td>\n",
       "      <td>Public_Transportation</td>\n",
       "      <td>Obesity_Type_III</td>\n",
       "    </tr>\n",
       "    <tr>\n",
       "      <th>4</th>\n",
       "      <td>4</td>\n",
       "      <td>Male</td>\n",
       "      <td>31.64</td>\n",
       "      <td>1.91</td>\n",
       "      <td>93.80</td>\n",
       "      <td>yes</td>\n",
       "      <td>yes</td>\n",
       "      <td>2.68</td>\n",
       "      <td>1.97</td>\n",
       "      <td>Sometimes</td>\n",
       "      <td>no</td>\n",
       "      <td>1.98</td>\n",
       "      <td>no</td>\n",
       "      <td>1.97</td>\n",
       "      <td>0.93</td>\n",
       "      <td>Sometimes</td>\n",
       "      <td>Public_Transportation</td>\n",
       "      <td>Overweight_Level_II</td>\n",
       "    </tr>\n",
       "  </tbody>\n",
       "</table>\n",
       "</div>"
      ],
      "text/plain": [
       "   id  Gender    Age  Height  Weight family_history_with_overweight FAVC  \\\n",
       "0   0    Male  24.44    1.70   81.67                            yes  yes   \n",
       "1   1  Female  18.00    1.56   57.00                            yes  yes   \n",
       "2   2  Female  18.00    1.71   50.17                            yes  yes   \n",
       "3   3  Female  20.95    1.71  131.27                            yes  yes   \n",
       "4   4    Male  31.64    1.91   93.80                            yes  yes   \n",
       "\n",
       "   FCVC   NCP        CAEC SMOKE  CH2O SCC   FAF   TUE       CALC  \\\n",
       "0  2.00  2.98   Sometimes    no  2.76  no  0.00  0.98  Sometimes   \n",
       "1  2.00  3.00  Frequently    no  2.00  no  1.00  1.00         no   \n",
       "2  1.88  1.41   Sometimes    no  1.91  no  0.87  1.67         no   \n",
       "3  3.00  3.00   Sometimes    no  1.67  no  1.47  0.78  Sometimes   \n",
       "4  2.68  1.97   Sometimes    no  1.98  no  1.97  0.93  Sometimes   \n",
       "\n",
       "                  MTRANS           NObeyesdad  \n",
       "0  Public_Transportation  Overweight_Level_II  \n",
       "1             Automobile        Normal_Weight  \n",
       "2  Public_Transportation  Insufficient_Weight  \n",
       "3  Public_Transportation     Obesity_Type_III  \n",
       "4  Public_Transportation  Overweight_Level_II  "
      ]
     },
     "execution_count": 4,
     "metadata": {},
     "output_type": "execute_result"
    }
   ],
   "source": [
    "# How does the first five columns of the dataset look like?\n",
    "train.head()"
   ]
  },
  {
   "cell_type": "code",
   "execution_count": 8,
   "id": "c7df1ca5-e501-4329-845c-22110db4b0ef",
   "metadata": {},
   "outputs": [
    {
     "data": {
      "text/html": [
       "<div>\n",
       "<style scoped>\n",
       "    .dataframe tbody tr th:only-of-type {\n",
       "        vertical-align: middle;\n",
       "    }\n",
       "\n",
       "    .dataframe tbody tr th {\n",
       "        vertical-align: top;\n",
       "    }\n",
       "\n",
       "    .dataframe thead th {\n",
       "        text-align: right;\n",
       "    }\n",
       "</style>\n",
       "<table border=\"1\" class=\"dataframe\">\n",
       "  <thead>\n",
       "    <tr style=\"text-align: right;\">\n",
       "      <th></th>\n",
       "      <th>id</th>\n",
       "      <th>Gender</th>\n",
       "      <th>Age</th>\n",
       "      <th>Height</th>\n",
       "      <th>Weight</th>\n",
       "      <th>family_history_with_overweight</th>\n",
       "      <th>FAVC</th>\n",
       "      <th>FCVC</th>\n",
       "      <th>NCP</th>\n",
       "      <th>CAEC</th>\n",
       "      <th>SMOKE</th>\n",
       "      <th>CH2O</th>\n",
       "      <th>SCC</th>\n",
       "      <th>FAF</th>\n",
       "      <th>TUE</th>\n",
       "      <th>CALC</th>\n",
       "      <th>MTRANS</th>\n",
       "      <th>NObeyesdad</th>\n",
       "    </tr>\n",
       "  </thead>\n",
       "  <tbody>\n",
       "    <tr>\n",
       "      <th>20753</th>\n",
       "      <td>20753</td>\n",
       "      <td>Male</td>\n",
       "      <td>25.14</td>\n",
       "      <td>1.77</td>\n",
       "      <td>114.19</td>\n",
       "      <td>yes</td>\n",
       "      <td>yes</td>\n",
       "      <td>2.92</td>\n",
       "      <td>3.00</td>\n",
       "      <td>Sometimes</td>\n",
       "      <td>no</td>\n",
       "      <td>2.15</td>\n",
       "      <td>no</td>\n",
       "      <td>1.33</td>\n",
       "      <td>0.20</td>\n",
       "      <td>Sometimes</td>\n",
       "      <td>Public_Transportation</td>\n",
       "      <td>Obesity_Type_II</td>\n",
       "    </tr>\n",
       "    <tr>\n",
       "      <th>20754</th>\n",
       "      <td>20754</td>\n",
       "      <td>Male</td>\n",
       "      <td>18.00</td>\n",
       "      <td>1.71</td>\n",
       "      <td>50.00</td>\n",
       "      <td>no</td>\n",
       "      <td>yes</td>\n",
       "      <td>3.00</td>\n",
       "      <td>4.00</td>\n",
       "      <td>Frequently</td>\n",
       "      <td>no</td>\n",
       "      <td>1.00</td>\n",
       "      <td>no</td>\n",
       "      <td>2.00</td>\n",
       "      <td>1.00</td>\n",
       "      <td>Sometimes</td>\n",
       "      <td>Public_Transportation</td>\n",
       "      <td>Insufficient_Weight</td>\n",
       "    </tr>\n",
       "    <tr>\n",
       "      <th>20755</th>\n",
       "      <td>20755</td>\n",
       "      <td>Male</td>\n",
       "      <td>20.10</td>\n",
       "      <td>1.82</td>\n",
       "      <td>105.58</td>\n",
       "      <td>yes</td>\n",
       "      <td>yes</td>\n",
       "      <td>2.41</td>\n",
       "      <td>3.00</td>\n",
       "      <td>Sometimes</td>\n",
       "      <td>no</td>\n",
       "      <td>2.00</td>\n",
       "      <td>no</td>\n",
       "      <td>1.16</td>\n",
       "      <td>1.20</td>\n",
       "      <td>no</td>\n",
       "      <td>Public_Transportation</td>\n",
       "      <td>Obesity_Type_II</td>\n",
       "    </tr>\n",
       "    <tr>\n",
       "      <th>20756</th>\n",
       "      <td>20756</td>\n",
       "      <td>Male</td>\n",
       "      <td>33.85</td>\n",
       "      <td>1.70</td>\n",
       "      <td>83.52</td>\n",
       "      <td>yes</td>\n",
       "      <td>yes</td>\n",
       "      <td>2.67</td>\n",
       "      <td>1.97</td>\n",
       "      <td>Sometimes</td>\n",
       "      <td>no</td>\n",
       "      <td>2.14</td>\n",
       "      <td>no</td>\n",
       "      <td>0.00</td>\n",
       "      <td>0.97</td>\n",
       "      <td>no</td>\n",
       "      <td>Automobile</td>\n",
       "      <td>Overweight_Level_II</td>\n",
       "    </tr>\n",
       "    <tr>\n",
       "      <th>20757</th>\n",
       "      <td>20757</td>\n",
       "      <td>Male</td>\n",
       "      <td>26.68</td>\n",
       "      <td>1.82</td>\n",
       "      <td>118.13</td>\n",
       "      <td>yes</td>\n",
       "      <td>yes</td>\n",
       "      <td>3.00</td>\n",
       "      <td>3.00</td>\n",
       "      <td>Sometimes</td>\n",
       "      <td>no</td>\n",
       "      <td>2.00</td>\n",
       "      <td>no</td>\n",
       "      <td>0.68</td>\n",
       "      <td>0.71</td>\n",
       "      <td>Sometimes</td>\n",
       "      <td>Public_Transportation</td>\n",
       "      <td>Obesity_Type_II</td>\n",
       "    </tr>\n",
       "  </tbody>\n",
       "</table>\n",
       "</div>"
      ],
      "text/plain": [
       "          id Gender    Age  Height  Weight family_history_with_overweight  \\\n",
       "20753  20753   Male  25.14    1.77  114.19                            yes   \n",
       "20754  20754   Male  18.00    1.71   50.00                             no   \n",
       "20755  20755   Male  20.10    1.82  105.58                            yes   \n",
       "20756  20756   Male  33.85    1.70   83.52                            yes   \n",
       "20757  20757   Male  26.68    1.82  118.13                            yes   \n",
       "\n",
       "      FAVC  FCVC   NCP        CAEC SMOKE  CH2O SCC   FAF   TUE       CALC  \\\n",
       "20753  yes  2.92  3.00   Sometimes    no  2.15  no  1.33  0.20  Sometimes   \n",
       "20754  yes  3.00  4.00  Frequently    no  1.00  no  2.00  1.00  Sometimes   \n",
       "20755  yes  2.41  3.00   Sometimes    no  2.00  no  1.16  1.20         no   \n",
       "20756  yes  2.67  1.97   Sometimes    no  2.14  no  0.00  0.97         no   \n",
       "20757  yes  3.00  3.00   Sometimes    no  2.00  no  0.68  0.71  Sometimes   \n",
       "\n",
       "                      MTRANS           NObeyesdad  \n",
       "20753  Public_Transportation      Obesity_Type_II  \n",
       "20754  Public_Transportation  Insufficient_Weight  \n",
       "20755  Public_Transportation      Obesity_Type_II  \n",
       "20756             Automobile  Overweight_Level_II  \n",
       "20757  Public_Transportation      Obesity_Type_II  "
      ]
     },
     "execution_count": 8,
     "metadata": {},
     "output_type": "execute_result"
    }
   ],
   "source": [
    "# How does the last five columns of the dataset look like?\n",
    "train.tail()"
   ]
  },
  {
   "cell_type": "code",
   "execution_count": 5,
   "id": "3b0e17c2-53df-47b2-88fd-ff5e5e832238",
   "metadata": {},
   "outputs": [
    {
     "data": {
      "text/html": [
       "<div>\n",
       "<style scoped>\n",
       "    .dataframe tbody tr th:only-of-type {\n",
       "        vertical-align: middle;\n",
       "    }\n",
       "\n",
       "    .dataframe tbody tr th {\n",
       "        vertical-align: top;\n",
       "    }\n",
       "\n",
       "    .dataframe thead th {\n",
       "        text-align: right;\n",
       "    }\n",
       "</style>\n",
       "<table border=\"1\" class=\"dataframe\">\n",
       "  <thead>\n",
       "    <tr style=\"text-align: right;\">\n",
       "      <th></th>\n",
       "      <th>id</th>\n",
       "      <th>Age</th>\n",
       "      <th>Height</th>\n",
       "      <th>Weight</th>\n",
       "      <th>FCVC</th>\n",
       "      <th>NCP</th>\n",
       "      <th>CH2O</th>\n",
       "      <th>FAF</th>\n",
       "      <th>TUE</th>\n",
       "    </tr>\n",
       "  </thead>\n",
       "  <tbody>\n",
       "    <tr>\n",
       "      <th>count</th>\n",
       "      <td>20758.00</td>\n",
       "      <td>20758.00</td>\n",
       "      <td>20758.00</td>\n",
       "      <td>20758.00</td>\n",
       "      <td>20758.00</td>\n",
       "      <td>20758.00</td>\n",
       "      <td>20758.00</td>\n",
       "      <td>2.08e+04</td>\n",
       "      <td>20758.00</td>\n",
       "    </tr>\n",
       "    <tr>\n",
       "      <th>mean</th>\n",
       "      <td>10378.50</td>\n",
       "      <td>23.84</td>\n",
       "      <td>1.70</td>\n",
       "      <td>87.89</td>\n",
       "      <td>2.45</td>\n",
       "      <td>2.76</td>\n",
       "      <td>2.03</td>\n",
       "      <td>9.82e-01</td>\n",
       "      <td>0.62</td>\n",
       "    </tr>\n",
       "    <tr>\n",
       "      <th>std</th>\n",
       "      <td>5992.46</td>\n",
       "      <td>5.69</td>\n",
       "      <td>0.09</td>\n",
       "      <td>26.38</td>\n",
       "      <td>0.53</td>\n",
       "      <td>0.71</td>\n",
       "      <td>0.61</td>\n",
       "      <td>8.38e-01</td>\n",
       "      <td>0.60</td>\n",
       "    </tr>\n",
       "    <tr>\n",
       "      <th>min</th>\n",
       "      <td>0.00</td>\n",
       "      <td>14.00</td>\n",
       "      <td>1.45</td>\n",
       "      <td>39.00</td>\n",
       "      <td>1.00</td>\n",
       "      <td>1.00</td>\n",
       "      <td>1.00</td>\n",
       "      <td>0.00e+00</td>\n",
       "      <td>0.00</td>\n",
       "    </tr>\n",
       "    <tr>\n",
       "      <th>25%</th>\n",
       "      <td>5189.25</td>\n",
       "      <td>20.00</td>\n",
       "      <td>1.63</td>\n",
       "      <td>66.00</td>\n",
       "      <td>2.00</td>\n",
       "      <td>3.00</td>\n",
       "      <td>1.79</td>\n",
       "      <td>8.01e-03</td>\n",
       "      <td>0.00</td>\n",
       "    </tr>\n",
       "    <tr>\n",
       "      <th>50%</th>\n",
       "      <td>10378.50</td>\n",
       "      <td>22.82</td>\n",
       "      <td>1.70</td>\n",
       "      <td>84.06</td>\n",
       "      <td>2.39</td>\n",
       "      <td>3.00</td>\n",
       "      <td>2.00</td>\n",
       "      <td>1.00e+00</td>\n",
       "      <td>0.57</td>\n",
       "    </tr>\n",
       "    <tr>\n",
       "      <th>75%</th>\n",
       "      <td>15567.75</td>\n",
       "      <td>26.00</td>\n",
       "      <td>1.76</td>\n",
       "      <td>111.60</td>\n",
       "      <td>3.00</td>\n",
       "      <td>3.00</td>\n",
       "      <td>2.55</td>\n",
       "      <td>1.59e+00</td>\n",
       "      <td>1.00</td>\n",
       "    </tr>\n",
       "    <tr>\n",
       "      <th>max</th>\n",
       "      <td>20757.00</td>\n",
       "      <td>61.00</td>\n",
       "      <td>1.98</td>\n",
       "      <td>165.06</td>\n",
       "      <td>3.00</td>\n",
       "      <td>4.00</td>\n",
       "      <td>3.00</td>\n",
       "      <td>3.00e+00</td>\n",
       "      <td>2.00</td>\n",
       "    </tr>\n",
       "  </tbody>\n",
       "</table>\n",
       "</div>"
      ],
      "text/plain": [
       "             id       Age    Height    Weight      FCVC       NCP      CH2O  \\\n",
       "count  20758.00  20758.00  20758.00  20758.00  20758.00  20758.00  20758.00   \n",
       "mean   10378.50     23.84      1.70     87.89      2.45      2.76      2.03   \n",
       "std     5992.46      5.69      0.09     26.38      0.53      0.71      0.61   \n",
       "min        0.00     14.00      1.45     39.00      1.00      1.00      1.00   \n",
       "25%     5189.25     20.00      1.63     66.00      2.00      3.00      1.79   \n",
       "50%    10378.50     22.82      1.70     84.06      2.39      3.00      2.00   \n",
       "75%    15567.75     26.00      1.76    111.60      3.00      3.00      2.55   \n",
       "max    20757.00     61.00      1.98    165.06      3.00      4.00      3.00   \n",
       "\n",
       "            FAF       TUE  \n",
       "count  2.08e+04  20758.00  \n",
       "mean   9.82e-01      0.62  \n",
       "std    8.38e-01      0.60  \n",
       "min    0.00e+00      0.00  \n",
       "25%    8.01e-03      0.00  \n",
       "50%    1.00e+00      0.57  \n",
       "75%    1.59e+00      1.00  \n",
       "max    3.00e+00      2.00  "
      ]
     },
     "execution_count": 5,
     "metadata": {},
     "output_type": "execute_result"
    }
   ],
   "source": [
    "# Descriptive statistics of the numerical fields on the dataset\n",
    "train.describe()"
   ]
  },
  {
   "cell_type": "code",
   "execution_count": 6,
   "id": "9806621f-b69c-492e-a7be-dd6c05ec7d88",
   "metadata": {},
   "outputs": [
    {
     "data": {
      "text/html": [
       "<div>\n",
       "<style scoped>\n",
       "    .dataframe tbody tr th:only-of-type {\n",
       "        vertical-align: middle;\n",
       "    }\n",
       "\n",
       "    .dataframe tbody tr th {\n",
       "        vertical-align: top;\n",
       "    }\n",
       "\n",
       "    .dataframe thead th {\n",
       "        text-align: right;\n",
       "    }\n",
       "</style>\n",
       "<table border=\"1\" class=\"dataframe\">\n",
       "  <thead>\n",
       "    <tr style=\"text-align: right;\">\n",
       "      <th></th>\n",
       "      <th>Gender</th>\n",
       "      <th>family_history_with_overweight</th>\n",
       "      <th>FAVC</th>\n",
       "      <th>CAEC</th>\n",
       "      <th>SMOKE</th>\n",
       "      <th>SCC</th>\n",
       "      <th>CALC</th>\n",
       "      <th>MTRANS</th>\n",
       "      <th>NObeyesdad</th>\n",
       "    </tr>\n",
       "  </thead>\n",
       "  <tbody>\n",
       "    <tr>\n",
       "      <th>count</th>\n",
       "      <td>20758</td>\n",
       "      <td>20758</td>\n",
       "      <td>20758</td>\n",
       "      <td>20758</td>\n",
       "      <td>20758</td>\n",
       "      <td>20758</td>\n",
       "      <td>20758</td>\n",
       "      <td>20758</td>\n",
       "      <td>20758</td>\n",
       "    </tr>\n",
       "    <tr>\n",
       "      <th>unique</th>\n",
       "      <td>2</td>\n",
       "      <td>2</td>\n",
       "      <td>2</td>\n",
       "      <td>4</td>\n",
       "      <td>2</td>\n",
       "      <td>2</td>\n",
       "      <td>3</td>\n",
       "      <td>5</td>\n",
       "      <td>7</td>\n",
       "    </tr>\n",
       "    <tr>\n",
       "      <th>top</th>\n",
       "      <td>Female</td>\n",
       "      <td>yes</td>\n",
       "      <td>yes</td>\n",
       "      <td>Sometimes</td>\n",
       "      <td>no</td>\n",
       "      <td>no</td>\n",
       "      <td>Sometimes</td>\n",
       "      <td>Public_Transportation</td>\n",
       "      <td>Obesity_Type_III</td>\n",
       "    </tr>\n",
       "    <tr>\n",
       "      <th>freq</th>\n",
       "      <td>10422</td>\n",
       "      <td>17014</td>\n",
       "      <td>18982</td>\n",
       "      <td>17529</td>\n",
       "      <td>20513</td>\n",
       "      <td>20071</td>\n",
       "      <td>15066</td>\n",
       "      <td>16687</td>\n",
       "      <td>4046</td>\n",
       "    </tr>\n",
       "  </tbody>\n",
       "</table>\n",
       "</div>"
      ],
      "text/plain": [
       "        Gender family_history_with_overweight   FAVC       CAEC  SMOKE    SCC  \\\n",
       "count    20758                          20758  20758      20758  20758  20758   \n",
       "unique       2                              2      2          4      2      2   \n",
       "top     Female                            yes    yes  Sometimes     no     no   \n",
       "freq     10422                          17014  18982      17529  20513  20071   \n",
       "\n",
       "             CALC                 MTRANS        NObeyesdad  \n",
       "count       20758                  20758             20758  \n",
       "unique          3                      5                 7  \n",
       "top     Sometimes  Public_Transportation  Obesity_Type_III  \n",
       "freq        15066                  16687              4046  "
      ]
     },
     "execution_count": 6,
     "metadata": {},
     "output_type": "execute_result"
    }
   ],
   "source": [
    "# Description of the non-numerical fields on the dataset\n",
    "train.describe(include=object)"
   ]
  },
  {
   "cell_type": "code",
   "execution_count": 7,
   "id": "d62d16f6-19ee-4653-a0dc-3ef9ea00bc1d",
   "metadata": {},
   "outputs": [
    {
     "name": "stdout",
     "output_type": "stream",
     "text": [
      "<class 'pandas.core.frame.DataFrame'>\n",
      "RangeIndex: 20758 entries, 0 to 20757\n",
      "Data columns (total 18 columns):\n",
      " #   Column                          Non-Null Count  Dtype  \n",
      "---  ------                          --------------  -----  \n",
      " 0   id                              20758 non-null  int64  \n",
      " 1   Gender                          20758 non-null  object \n",
      " 2   Age                             20758 non-null  float64\n",
      " 3   Height                          20758 non-null  float64\n",
      " 4   Weight                          20758 non-null  float64\n",
      " 5   family_history_with_overweight  20758 non-null  object \n",
      " 6   FAVC                            20758 non-null  object \n",
      " 7   FCVC                            20758 non-null  float64\n",
      " 8   NCP                             20758 non-null  float64\n",
      " 9   CAEC                            20758 non-null  object \n",
      " 10  SMOKE                           20758 non-null  object \n",
      " 11  CH2O                            20758 non-null  float64\n",
      " 12  SCC                             20758 non-null  object \n",
      " 13  FAF                             20758 non-null  float64\n",
      " 14  TUE                             20758 non-null  float64\n",
      " 15  CALC                            20758 non-null  object \n",
      " 16  MTRANS                          20758 non-null  object \n",
      " 17  NObeyesdad                      20758 non-null  object \n",
      "dtypes: float64(8), int64(1), object(9)\n",
      "memory usage: 2.9+ MB\n"
     ]
    }
   ],
   "source": [
    "# What type of data are the columns? How many non-null datapoints are available?\n",
    "train.info()"
   ]
  },
  {
   "cell_type": "code",
   "execution_count": 21,
   "id": "654d27e7-39eb-4f02-9850-657c71c8b176",
   "metadata": {},
   "outputs": [
    {
     "data": {
      "text/plain": [
       "Gender\n",
       "Female    10422\n",
       "Male      10336\n",
       "Name: count, dtype: int64"
      ]
     },
     "execution_count": 21,
     "metadata": {},
     "output_type": "execute_result"
    }
   ],
   "source": [
    "# Is it a balanced dataset in terms of Gender?\n",
    "train['Gender'].value_counts()"
   ]
  },
  {
   "cell_type": "code",
   "execution_count": 22,
   "id": "f2f52716-7f3f-45cf-bb93-f05e0c9d6da7",
   "metadata": {},
   "outputs": [
    {
     "data": {
      "text/plain": [
       "family_history_with_overweight\n",
       "yes    17014\n",
       "no      3744\n",
       "Name: count, dtype: int64"
      ]
     },
     "execution_count": 22,
     "metadata": {},
     "output_type": "execute_result"
    }
   ],
   "source": [
    "# Is it a balanced dataset in terms of Family history with overweight?\n",
    "train['family_history_with_overweight'].value_counts()"
   ]
  },
  {
   "cell_type": "code",
   "execution_count": 23,
   "id": "9cee9eb3-64f3-47a5-828b-2f9672f2d4d3",
   "metadata": {},
   "outputs": [
    {
     "data": {
      "text/plain": [
       "NObeyesdad\n",
       "Obesity_Type_III       4046\n",
       "Obesity_Type_II        3248\n",
       "Normal_Weight          3082\n",
       "Obesity_Type_I         2910\n",
       "Insufficient_Weight    2523\n",
       "Overweight_Level_II    2522\n",
       "Overweight_Level_I     2427\n",
       "Name: count, dtype: int64"
      ]
     },
     "execution_count": 23,
     "metadata": {},
     "output_type": "execute_result"
    }
   ],
   "source": [
    "# Is it a balanced dataset in terms of type of obesity?\n",
    "train['NObeyesdad'].value_counts()"
   ]
  },
  {
   "cell_type": "code",
   "execution_count": 26,
   "id": "a1916502-7b1d-4066-81d3-89b39f5bccf4",
   "metadata": {},
   "outputs": [
    {
     "data": {
      "text/plain": [
       "family_history_with_overweight\n",
       "yes    4045\n",
       "no        1\n",
       "Name: count, dtype: int64"
      ]
     },
     "execution_count": 26,
     "metadata": {},
     "output_type": "execute_result"
    }
   ],
   "source": [
    "# What's the distribution of the 'Obesity Type III' diagnosed with respect to their family history of overweight?\n",
    "train.loc[train['NObeyesdad']== 'Obesity_Type_III', 'family_history_with_overweight'].value_counts()"
   ]
  },
  {
   "cell_type": "code",
   "execution_count": 27,
   "id": "29254b42-cd15-4924-8e2b-b0276e93c008",
   "metadata": {},
   "outputs": [
    {
     "data": {
      "text/plain": [
       "family_history_with_overweight\n",
       "no     1449\n",
       "yes    1074\n",
       "Name: count, dtype: int64"
      ]
     },
     "execution_count": 27,
     "metadata": {},
     "output_type": "execute_result"
    }
   ],
   "source": [
    "# What's the distribution of the 'Insufficient Weight' diagnosed with respect to their family history of overweight?\n",
    "train.loc[train['NObeyesdad']== 'Insufficient_Weight', 'family_history_with_overweight'].value_counts()"
   ]
  },
  {
   "cell_type": "code",
   "execution_count": 31,
   "id": "1ba29edf-2a39-4f51-95e3-db2adafec396",
   "metadata": {},
   "outputs": [
    {
     "data": {
      "text/plain": [
       "min         1.00\n",
       "max         3.00\n",
       "mean        2.33\n",
       "count    4046.00\n",
       "Name: CH2O, dtype: float64"
      ]
     },
     "execution_count": 31,
     "metadata": {},
     "output_type": "execute_result"
    }
   ],
   "source": [
    "# How much H20, on average, 'Obesity Type III' and 'Insufficient Weight' classified people consume?\n",
    "train.loc[train['NObeyesdad']=='Obesity_Type_III', 'CH2O'].agg(('min', 'max', 'mean', 'count'))"
   ]
  },
  {
   "cell_type": "markdown",
   "id": "7e55b455-c612-46e3-a67b-295fdd17a855",
   "metadata": {},
   "source": [
    "## Graph training data"
   ]
  },
  {
   "cell_type": "code",
   "execution_count": 47,
   "id": "5d3b5643-6391-486c-8eb5-fa21d3dcd4ec",
   "metadata": {},
   "outputs": [
    {
     "data": {
      "image/png": "[encoded data removed]",
      "text/plain": [
       "<Figure size 1200x400 with 3 Axes>"
      ]
     },
     "metadata": {},
     "output_type": "display_data"
    }
   ],
   "source": [
    "# Age, Height, and Weight distributions - training data\n",
    "fig, axes = plt.subplots(nrows=1, ncols=3, figsize=(12, 4))\n",
    "\n",
    "axes[0].hist(train['Age'], bins=20, color='lightgreen', edgecolor='black')\n",
    "axes[0].set_title('Age')\n",
    " \n",
    "axes[1].hist(train['Height'], bins=30, color='lightgrey', edgecolor='black')\n",
    "axes[1].set_title('Height')\n",
    "\n",
    "axes[2].hist(train['Weight'], bins=30, color='lightblue', edgecolor='black')\n",
    "axes[2].set_title('Weight')\n",
    " \n",
    "# Adding labels and title\n",
    "for ax in axes:\n",
    "    ax.set_xlabel('Values')\n",
    "    ax.set_ylabel('Frequency')\n",
    " \n",
    "# Adjusting layout for better spacing\n",
    "plt.tight_layout()\n",
    " \n",
    "# Display the figure\n",
    "plt.show()"
   ]
  },
  {
   "cell_type": "code",
   "execution_count": 56,
   "id": "09d67992-433e-4504-9ab3-7b0174ed4324",
   "metadata": {},
   "outputs": [
    {
     "data": {
      "image/png": "[encoded data removed]",
      "text/plain": [
       "<Figure size 1200x400 with 3 Axes>"
      ]
     },
     "metadata": {},
     "output_type": "display_data"
    }
   ],
   "source": [
    "#  Frequency of consumption of vegetables (FCVC), Number of main meals (NCP), and  Consumption of water (CH2O) - training data\n",
    "fig, axes = plt.subplots(nrows=1, ncols=3, figsize=(12, 4))\n",
    "\n",
    "axes[0].hist(train['FCVC'], bins=30, color='lightgrey', edgecolor='black')\n",
    "axes[0].set_title('Frequency of consumption of vegetables')\n",
    "\n",
    "axes[1].hist(train['NCP'], bins=30, color='lightyellow', edgecolor='black')\n",
    "axes[1].set_title('Number of main meals')\n",
    "\n",
    "axes[2].hist(train['CH2O'], bins=30, color='lightblue', edgecolor='black')\n",
    "axes[2].set_title('Consumption of water')\n",
    " \n",
    "# Adding labels and title\n",
    "for ax in axes:\n",
    "    ax.set_xlabel('Values')\n",
    "    ax.set_ylabel('Frequency')\n",
    " \n",
    "# Adjusting layout for better spacing\n",
    "plt.tight_layout()\n",
    " \n",
    "# Display the figure\n",
    "plt.show()"
   ]
  },
  {
   "cell_type": "code",
   "execution_count": 58,
   "id": "dbb52063-7bc1-47d4-82a8-153da32eeea4",
   "metadata": {},
   "outputs": [
    {
     "data": {
      "image/png": "[encoded data removed]",
      "text/plain": [
       "<Figure size 1200x400 with 2 Axes>"
      ]
     },
     "metadata": {},
     "output_type": "display_data"
    }
   ],
   "source": [
    "#  Physical activity frequency (FAF), and, Time using technology devices (TUE) - training data\n",
    "fig, axes = plt.subplots(nrows=1, ncols=2, figsize=(12, 4))\n",
    "\n",
    "axes[0].hist(train['FAF'], bins=30, color='lightgrey', edgecolor='black')\n",
    "axes[0].set_title('Physical activity frequency')\n",
    "\n",
    "axes[1].hist(train['TUE'], bins=30, color='lightyellow', edgecolor='black')\n",
    "axes[1].set_title('Time using technology devices')\n",
    " \n",
    "# Adding labels and title\n",
    "for ax in axes:\n",
    "    ax.set_xlabel('Values')\n",
    "    ax.set_ylabel('Frequency')\n",
    " \n",
    "# Adjusting layout for better spacing\n",
    "plt.tight_layout()\n",
    " \n",
    "# Display the figure\n",
    "plt.show()"
   ]
  },
  {
   "cell_type": "code",
   "execution_count": null,
   "id": "cda3b0ef-a26a-4334-8d6d-2e9b8153081b",
   "metadata": {},
   "outputs": [],
   "source": []
  }
 ],
 "metadata": {
  "kernelspec": {
   "display_name": "Python 3 (ipykernel)",
   "language": "python",
   "name": "python3"
  },
  "language_info": {
   "codemirror_mode": {
    "name": "ipython",
    "version": 3
   },
   "file_extension": ".py",
   "mimetype": "text/x-python",
   "name": "python",
   "nbconvert_exporter": "python",
   "pygments_lexer": "ipython3",
   "version": "3.10.13"
  },
  "varInspector": {
   "cols": {
    "lenName": 16,
    "lenType": 16,
    "lenVar": 40
   },
   "kernels_config": {
    "python": {
     "delete_cmd_postfix": "",
     "delete_cmd_prefix": "del ",
     "library": "var_list.py",
     "varRefreshCmd": "print(var_dic_list())"
    },
    "r": {
     "delete_cmd_postfix": ") ",
     "delete_cmd_prefix": "rm(",
     "library": "var_list.r",
     "varRefreshCmd": "cat(var_dic_list()) "
    }
   },
   "types_to_exclude": [
    "module",
    "function",
    "builtin_function_or_method",
    "instance",
    "_Feature"
   ],
   "window_display": false
  }
 },
 "nbformat": 4,
 "nbformat_minor": 5
}
